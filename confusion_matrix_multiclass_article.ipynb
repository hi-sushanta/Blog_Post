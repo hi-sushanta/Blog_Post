{
  "nbformat": 4,
  "nbformat_minor": 0,
  "metadata": {
    "colab": {
      "provenance": []
    },
    "kernelspec": {
      "name": "python3",
      "display_name": "Python 3"
    },
    "language_info": {
      "name": "python"
    },
    "gpuClass": "standard",
    "accelerator": "GPU"
  },
  "cells": [
    {
      "cell_type": "markdown",
      "source": [
        "# Confusion-Matrix-Multi-Class Classification Article"
      ],
      "metadata": {
        "id": "pGQGqwhGWBE0"
      }
    },
    {
      "cell_type": "code",
      "source": [
        "!nvidia-smi -L"
      ],
      "metadata": {
        "colab": {
          "base_uri": "https://localhost:8080/"
        },
        "id": "hHnZGZmLy6YA",
        "outputId": "4772f40f-d0d7-4754-af4a-82e4f6a8cf90"
      },
      "execution_count": 1,
      "outputs": [
        {
          "output_type": "stream",
          "name": "stdout",
          "text": [
            "GPU 0: Tesla T4 (UUID: GPU-47c0a4ea-fa28-2909-07f4-346172d38c26)\n"
          ]
        }
      ]
    },
    {
      "cell_type": "code",
      "source": [
        "import pandas as pd\n",
        "import matplotlib.pyplot as plt\n",
        "import seaborn as sns\n",
        "import tensorflow as tf \n",
        "import numpy as np\n",
        "import pathlib\n",
        "import cv2\n",
        "import os\n",
        "import re\n",
        "from sklearn.model_selection import train_test_split\n",
        "from tensorflow.keras.applications.vgg16 import VGG16\n",
        "from tensorflow.keras.layers import Dense,GlobalAveragePooling2D\n",
        "from sklearn.metrics import confusion_matrix,precision_score,recall_score,accuracy_score,f1_score\n",
        "from sklearn.preprocessing import OneHotEncoder,LabelEncoder\n",
        "\n",
        "\n",
        "%matplotlib inline"
      ],
      "metadata": {
        "id": "PbzItkDNkKHI"
      },
      "execution_count": 2,
      "outputs": []
    },
    {
      "cell_type": "code",
      "source": [
        "dataset_dir = \"drive/MyDrive/Dataset/shoe_sandle_boot/\""
      ],
      "metadata": {
        "id": "-F_qmQ7-mAJi"
      },
      "execution_count": 3,
      "outputs": []
    },
    {
      "cell_type": "code",
      "source": [
        "# Get the class names (programmatically, this is much more helpful with a longer list of classes)\n",
        "train_data_dir = pathlib.Path(dataset_dir) # turn our training path into a Python path\n",
        "class_names = np.array(sorted([item.name for item in train_data_dir.glob('*')])) # created a list of class_names from the subdirectories\n",
        "print(class_names)"
      ],
      "metadata": {
        "id": "3FX3NNOXrGaX",
        "colab": {
          "base_uri": "https://localhost:8080/"
        },
        "outputId": "5c887e4b-389d-4111-bcd2-0312658205e2"
      },
      "execution_count": 4,
      "outputs": [
        {
          "output_type": "stream",
          "name": "stdout",
          "text": [
            "['Boot' 'Sandal' 'Shoe']\n"
          ]
        }
      ]
    },
    {
      "cell_type": "code",
      "source": [
        "\n",
        "img_size = 244\n",
        "\n",
        "def get_image_from_directory(data_dir):\n",
        "    image_bgr = []\n",
        "    label = []\n",
        "    count = 500\n",
        "    for file in data_dir.glob(\"*\"):\n",
        "        for i, image in enumerate(file.glob(\"*\")):\n",
        "            if re.search(r\"(Shoe)\",str(image)):\n",
        "                _image = cv2.imread(str(image))\n",
        "                if not _image is None and  i < count: # check to see image is not empty\n",
        "                    label.append(\"Shoe\")\n",
        "                    resize_image = cv2.resize(_image, (img_size, img_size),interpolation = cv2.INTER_NEAREST)\n",
        "                    image_bgr.append(resize_image)\n",
        "            elif re.search(r\"Sandal\",str(image)):\n",
        "                _image = cv2.imread(str(image))\n",
        "                if not _image is None and i < count: # check to see image is not empty\n",
        "                    label.append(\"Sandal\")\n",
        "                    resize_image = cv2.resize(_image, (img_size, img_size),interpolation = cv2.INTER_NEAREST)\n",
        "                    image_bgr.append(resize_image)\n",
        "            elif re.search(r\"Boot\",str(image)):\n",
        "                _image = cv2.imread(str(image))\n",
        "                if not _image is None and i < count: # check to see image is not empty\n",
        "                    label.append(\"Boot\")\n",
        "                    resize_image = cv2.resize(_image, (img_size, img_size),interpolation = cv2.INTER_NEAREST)\n",
        "                    image_bgr.append(resize_image)\n",
        "    return image_bgr,label"
      ],
      "metadata": {
        "id": "dh05S6GqrPuZ"
      },
      "execution_count": 5,
      "outputs": []
    },
    {
      "cell_type": "code",
      "source": [
        "data_image_bgr,data_label = get_image_from_directory(train_data_dir)\n"
      ],
      "metadata": {
        "id": "7E5Yon0UrpOY"
      },
      "execution_count": 6,
      "outputs": []
    },
    {
      "cell_type": "code",
      "source": [
        "np.unique(data_label)"
      ],
      "metadata": {
        "id": "MkS5Wna1tDdN",
        "colab": {
          "base_uri": "https://localhost:8080/"
        },
        "outputId": "ae86a310-18c7-4200-a2c6-aa31ddea388e"
      },
      "execution_count": 7,
      "outputs": [
        {
          "output_type": "execute_result",
          "data": {
            "text/plain": [
              "array(['Boot', 'Sandal', 'Shoe'], dtype='<U6')"
            ]
          },
          "metadata": {},
          "execution_count": 7
        }
      ]
    },
    {
      "cell_type": "code",
      "source": [
        "len(data_image_bgr),len(data_label)"
      ],
      "metadata": {
        "id": "CuQFGj4-typX",
        "colab": {
          "base_uri": "https://localhost:8080/"
        },
        "outputId": "bbcce635-2ab7-4dca-f4c0-923f0854a4c6"
      },
      "execution_count": 8,
      "outputs": [
        {
          "output_type": "execute_result",
          "data": {
            "text/plain": [
              "(1500, 1500)"
            ]
          },
          "metadata": {},
          "execution_count": 8
        }
      ]
    },
    {
      "cell_type": "code",
      "source": [
        "train_image_bgr,test_image_bgr,y_train,y_test = train_test_split(data_image_bgr,\n",
        "                                                                 data_label,\n",
        "                                                                 test_size=0.2,\n",
        "                                                                 random_state=42)\n",
        "len(train_image_bgr),len(test_image_bgr),len(y_train),len(y_test)"
      ],
      "metadata": {
        "id": "3C6JKgcHr24q",
        "colab": {
          "base_uri": "https://localhost:8080/"
        },
        "outputId": "eb569693-81ee-45ea-b610-26e15b825110"
      },
      "execution_count": 9,
      "outputs": [
        {
          "output_type": "execute_result",
          "data": {
            "text/plain": [
              "(1200, 300, 1200, 300)"
            ]
          },
          "metadata": {},
          "execution_count": 9
        }
      ]
    },
    {
      "cell_type": "code",
      "source": [
        "np.array(y_train).shape,np.array(y_train).ndim"
      ],
      "metadata": {
        "colab": {
          "base_uri": "https://localhost:8080/"
        },
        "id": "RTRXFPICH2t0",
        "outputId": "01066480-f338-40f5-da5f-27ecbdb798bb"
      },
      "execution_count": 10,
      "outputs": [
        {
          "output_type": "execute_result",
          "data": {
            "text/plain": [
              "((1200,), 1)"
            ]
          },
          "metadata": {},
          "execution_count": 10
        }
      ]
    },
    {
      "cell_type": "code",
      "source": [
        "y_train = tf.expand_dims(y_train,axis=1)\n",
        "y_test = tf.expand_dims(y_test,axis=1)\n",
        "y_train.shape"
      ],
      "metadata": {
        "id": "5LasAecDuwRQ",
        "colab": {
          "base_uri": "https://localhost:8080/"
        },
        "outputId": "1c47ed41-3fd3-4375-ce2d-e44635a26ceb"
      },
      "execution_count": 11,
      "outputs": [
        {
          "output_type": "execute_result",
          "data": {
            "text/plain": [
              "TensorShape([1200, 1])"
            ]
          },
          "metadata": {},
          "execution_count": 11
        }
      ]
    },
    {
      "cell_type": "code",
      "source": [
        "def one_hot_label(label):\n",
        "    label_one_hot = OneHotEncoder(sparse=False)\n",
        "    label_encoder = LabelEncoder()\n",
        "    train_label_one_hot = label_one_hot.fit_transform(label)\n",
        "    label_encoder = label_encoder.fit(label)\n",
        "    train_label_encoder = label_encoder.transform(label)\n",
        "    return train_label_one_hot,train_label_encoder\n",
        "\n",
        "train_label_one_hot,train_label_encoder = one_hot_label(y_train)\n",
        "test_label_one_hot,test_label_encoder = one_hot_label(y_test)"
      ],
      "metadata": {
        "id": "D4ff7elnsGkQ",
        "colab": {
          "base_uri": "https://localhost:8080/"
        },
        "outputId": "2001140b-71bb-4c7b-cdea-7b36a85a9aba"
      },
      "execution_count": 12,
      "outputs": [
        {
          "output_type": "stream",
          "name": "stderr",
          "text": [
            "/usr/local/lib/python3.7/dist-packages/sklearn/preprocessing/_label.py:98: DataConversionWarning: A column-vector y was passed when a 1d array was expected. Please change the shape of y to (n_samples, ), for example using ravel().\n",
            "  y = column_or_1d(y, warn=True)\n",
            "/usr/local/lib/python3.7/dist-packages/sklearn/preprocessing/_label.py:133: DataConversionWarning: A column-vector y was passed when a 1d array was expected. Please change the shape of y to (n_samples, ), for example using ravel().\n",
            "  y = column_or_1d(y, warn=True)\n",
            "/usr/local/lib/python3.7/dist-packages/sklearn/preprocessing/_label.py:98: DataConversionWarning: A column-vector y was passed when a 1d array was expected. Please change the shape of y to (n_samples, ), for example using ravel().\n",
            "  y = column_or_1d(y, warn=True)\n",
            "/usr/local/lib/python3.7/dist-packages/sklearn/preprocessing/_label.py:133: DataConversionWarning: A column-vector y was passed when a 1d array was expected. Please change the shape of y to (n_samples, ), for example using ravel().\n",
            "  y = column_or_1d(y, warn=True)\n"
          ]
        }
      ]
    },
    {
      "cell_type": "code",
      "source": [
        "train_label_one_hot[0:5],y_train[0:5]\n"
      ],
      "metadata": {
        "id": "Fv1dP-MFsjtZ",
        "colab": {
          "base_uri": "https://localhost:8080/"
        },
        "outputId": "ec8d3c19-9f36-4e03-9512-5c52a37f81d7"
      },
      "execution_count": 13,
      "outputs": [
        {
          "output_type": "execute_result",
          "data": {
            "text/plain": [
              "(array([[0., 0., 1.],\n",
              "        [1., 0., 0.],\n",
              "        [0., 1., 0.],\n",
              "        [0., 1., 0.],\n",
              "        [0., 0., 1.]]), <tf.Tensor: shape=(5, 1), dtype=string, numpy=\n",
              " array([[b'Shoe'],\n",
              "        [b'Boot'],\n",
              "        [b'Sandal'],\n",
              "        [b'Sandal'],\n",
              "        [b'Shoe']], dtype=object)>)"
            ]
          },
          "metadata": {},
          "execution_count": 13
        }
      ]
    },
    {
      "cell_type": "code",
      "source": [
        "test_label_one_hot[:5], y_test[0:5]"
      ],
      "metadata": {
        "id": "kBBq2pX5snsR",
        "colab": {
          "base_uri": "https://localhost:8080/"
        },
        "outputId": "07d4b3f8-ee57-4b9a-d080-aeba7706b8b5"
      },
      "execution_count": 14,
      "outputs": [
        {
          "output_type": "execute_result",
          "data": {
            "text/plain": [
              "(array([[0., 1., 0.],\n",
              "        [0., 1., 0.],\n",
              "        [0., 0., 1.],\n",
              "        [0., 0., 1.],\n",
              "        [0., 0., 1.]]), <tf.Tensor: shape=(5, 1), dtype=string, numpy=\n",
              " array([[b'Sandal'],\n",
              "        [b'Sandal'],\n",
              "        [b'Shoe'],\n",
              "        [b'Shoe'],\n",
              "        [b'Shoe']], dtype=object)>)"
            ]
          },
          "metadata": {},
          "execution_count": 14
        }
      ]
    },
    {
      "cell_type": "code",
      "source": [
        "test_label_encoder[:5]"
      ],
      "metadata": {
        "colab": {
          "base_uri": "https://localhost:8080/"
        },
        "id": "pteeqAAlCnWw",
        "outputId": "a3550ff1-2278-484b-dbde-689719e57aad"
      },
      "execution_count": 15,
      "outputs": [
        {
          "output_type": "execute_result",
          "data": {
            "text/plain": [
              "array([1, 1, 2, 2, 2])"
            ]
          },
          "metadata": {},
          "execution_count": 15
        }
      ]
    },
    {
      "cell_type": "code",
      "source": [
        "print(np.array(train_image_bgr).shape)\n",
        "print(np.array(test_image_bgr).shape)\n",
        "print(np.array(train_label_one_hot).shape)\n",
        "print(np.array(test_label_one_hot).shape)"
      ],
      "metadata": {
        "id": "lMwq2yzDsxBN",
        "colab": {
          "base_uri": "https://localhost:8080/"
        },
        "outputId": "078de95a-7bb0-495d-b667-68e852b17ce5"
      },
      "execution_count": 16,
      "outputs": [
        {
          "output_type": "stream",
          "name": "stdout",
          "text": [
            "(1200, 244, 244, 3)\n",
            "(300, 244, 244, 3)\n",
            "(1200, 3)\n",
            "(300, 3)\n"
          ]
        }
      ]
    },
    {
      "cell_type": "code",
      "source": [
        "train_dataset = tf.data.Dataset.from_tensor_slices((train_image_bgr,train_label_one_hot)).batch(32).shuffle(100).prefetch(tf.data.AUTOTUNE)\n",
        "test_dataset = tf.data.Dataset.from_tensor_slices((test_image_bgr,test_label_one_hot)).batch(32).prefetch(tf.data.AUTOTUNE)\n",
        "train_dataset"
      ],
      "metadata": {
        "id": "k35vjcFms7Be",
        "colab": {
          "base_uri": "https://localhost:8080/"
        },
        "outputId": "cac6ace0-0116-43b0-89a5-23f758f91113"
      },
      "execution_count": 17,
      "outputs": [
        {
          "output_type": "execute_result",
          "data": {
            "text/plain": [
              "<PrefetchDataset element_spec=(TensorSpec(shape=(None, 244, 244, 3), dtype=tf.uint8, name=None), TensorSpec(shape=(None, 3), dtype=tf.float64, name=None))>"
            ]
          },
          "metadata": {},
          "execution_count": 17
        }
      ]
    },
    {
      "cell_type": "code",
      "source": [
        "tf.random.set_seed(42)\n",
        "base_model = VGG16(weights='imagenet', include_top=False,\n",
        "                            input_shape=(img_size, img_size,3))\n",
        "\n",
        "# freeze extraction layers\n",
        "base_model.trainable = False\n",
        "\n",
        "# add custom top layers\n",
        "x = base_model.output\n",
        "x = GlobalAveragePooling2D()(x)\n",
        "x = Dense(1024 , activation='relu')(x)\n",
        "x = Dense(1024 , activation='relu')(x)\n",
        "x = Dense(512 , activation='relu')(x)\n",
        "x = Dense(512 , activation='relu')(x)\n",
        "x = Dense(256 , activation='relu')(x)\n",
        "predictions = Dense(len(class_names), activation='softmax')(x)\n",
        "model = tf.keras.Model(inputs=base_model.input, outputs=predictions)\n",
        "\n",
        "opt = tf.keras.optimizers.Adam(learning_rate=0.001)\n",
        "model.compile(\n",
        "  loss=tf.keras.losses.CategoricalCrossentropy(),\n",
        "  optimizer=opt,\n",
        "  metrics=['accuracy']\n",
        ")\n",
        "\n",
        "history = model.fit(train_dataset,\n",
        "                    epochs=10,\n",
        "                    validation_data=test_dataset)\n"
      ],
      "metadata": {
        "id": "M_pB94PQtU-W",
        "colab": {
          "base_uri": "https://localhost:8080/"
        },
        "outputId": "9f519c7c-389f-41bf-c3e9-8e17ea903e78"
      },
      "execution_count": 18,
      "outputs": [
        {
          "output_type": "stream",
          "name": "stdout",
          "text": [
            "Downloading data from https://storage.googleapis.com/tensorflow/keras-applications/vgg16/vgg16_weights_tf_dim_ordering_tf_kernels_notop.h5\n",
            "58889256/58889256 [==============================] - 2s 0us/step\n",
            "Epoch 1/10\n",
            "38/38 [==============================] - 23s 301ms/step - loss: 0.7005 - accuracy: 0.8067 - val_loss: 0.2578 - val_accuracy: 0.9367\n",
            "Epoch 2/10\n",
            "38/38 [==============================] - 8s 215ms/step - loss: 0.1083 - accuracy: 0.9625 - val_loss: 0.3114 - val_accuracy: 0.9033\n",
            "Epoch 3/10\n",
            "38/38 [==============================] - 8s 214ms/step - loss: 0.0588 - accuracy: 0.9767 - val_loss: 0.4693 - val_accuracy: 0.9100\n",
            "Epoch 4/10\n",
            "38/38 [==============================] - 8s 214ms/step - loss: 0.0708 - accuracy: 0.9783 - val_loss: 0.3833 - val_accuracy: 0.9133\n",
            "Epoch 5/10\n",
            "38/38 [==============================] - 8s 215ms/step - loss: 0.0315 - accuracy: 0.9925 - val_loss: 0.4093 - val_accuracy: 0.9300\n",
            "Epoch 6/10\n",
            "38/38 [==============================] - 8s 216ms/step - loss: 0.0062 - accuracy: 0.9992 - val_loss: 0.5483 - val_accuracy: 0.9400\n",
            "Epoch 7/10\n",
            "38/38 [==============================] - 8s 217ms/step - loss: 0.0071 - accuracy: 0.9983 - val_loss: 0.4152 - val_accuracy: 0.9333\n",
            "Epoch 8/10\n",
            "38/38 [==============================] - 8s 218ms/step - loss: 0.0327 - accuracy: 0.9908 - val_loss: 0.4393 - val_accuracy: 0.9333\n",
            "Epoch 9/10\n",
            "38/38 [==============================] - 8s 219ms/step - loss: 0.0253 - accuracy: 0.9933 - val_loss: 0.6187 - val_accuracy: 0.9333\n",
            "Epoch 10/10\n",
            "38/38 [==============================] - 8s 220ms/step - loss: 0.0747 - accuracy: 0.9800 - val_loss: 0.7370 - val_accuracy: 0.9433\n"
          ]
        }
      ]
    },
    {
      "cell_type": "code",
      "source": [
        "model.evaluate(test_dataset)"
      ],
      "metadata": {
        "id": "GOkTDrlsv3yd",
        "colab": {
          "base_uri": "https://localhost:8080/"
        },
        "outputId": "b591650c-73f0-441b-a14f-1405aaf2f8d7"
      },
      "execution_count": 19,
      "outputs": [
        {
          "output_type": "stream",
          "name": "stdout",
          "text": [
            "10/10 [==============================] - 2s 168ms/step - loss: 0.7370 - accuracy: 0.9433\n"
          ]
        },
        {
          "output_type": "execute_result",
          "data": {
            "text/plain": [
              "[0.7370416522026062, 0.9433333277702332]"
            ]
          },
          "metadata": {},
          "execution_count": 19
        }
      ]
    },
    {
      "cell_type": "code",
      "source": [
        "tf.random.set_seed(42)\n",
        "y_probs = model.predict(test_dataset)\n",
        "y_probs[:5]"
      ],
      "metadata": {
        "colab": {
          "base_uri": "https://localhost:8080/"
        },
        "id": "npQ_--ii6iCw",
        "outputId": "8ca881c0-7f0e-44f7-c0a4-21cd1bdf3037"
      },
      "execution_count": 20,
      "outputs": [
        {
          "output_type": "stream",
          "name": "stdout",
          "text": [
            "10/10 [==============================] - 2s 174ms/step\n"
          ]
        },
        {
          "output_type": "execute_result",
          "data": {
            "text/plain": [
              "array([[4.4983320e-08, 9.9999905e-01, 9.0217611e-07],\n",
              "       [3.2059199e-11, 1.0000000e+00, 1.8184622e-09],\n",
              "       [2.3693588e-04, 6.1387750e-03, 9.9362421e-01],\n",
              "       [1.7944859e-19, 6.4269876e-19, 1.0000000e+00],\n",
              "       [1.3757054e-10, 2.2992151e-10, 1.0000000e+00]], dtype=float32)"
            ]
          },
          "metadata": {},
          "execution_count": 20
        }
      ]
    },
    {
      "cell_type": "code",
      "source": [
        "def get_y_preds(model_probs):\n",
        "  y_preds = []\n",
        "  for porb in model_probs: \n",
        "    y_pred = np.round(np.argmax(porb))\n",
        "    y_preds.append(y_pred)\n",
        "  return np.array(y_preds)\n",
        "\n",
        "y_preds = get_y_preds(y_probs)\n",
        "y_preds"
      ],
      "metadata": {
        "id": "u58JwxtH68oR",
        "colab": {
          "base_uri": "https://localhost:8080/"
        },
        "outputId": "d30569b4-b1e2-454f-e9bf-7923d88fff89"
      },
      "execution_count": 21,
      "outputs": [
        {
          "output_type": "execute_result",
          "data": {
            "text/plain": [
              "array([1, 1, 2, 2, 2, 0, 1, 0, 1, 2, 2, 1, 0, 1, 2, 1, 1, 0, 2, 2, 1, 1,\n",
              "       1, 1, 1, 2, 1, 1, 1, 1, 1, 0, 1, 1, 2, 2, 2, 2, 2, 2, 1, 2, 1, 0,\n",
              "       1, 2, 2, 2, 0, 0, 0, 0, 1, 1, 0, 0, 2, 2, 2, 0, 0, 0, 2, 2, 0, 2,\n",
              "       2, 1, 1, 2, 2, 0, 0, 2, 0, 1, 0, 0, 2, 0, 1, 2, 2, 0, 0, 2, 0, 0,\n",
              "       0, 0, 1, 2, 2, 1, 1, 2, 2, 2, 2, 2, 0, 0, 2, 1, 2, 2, 2, 1, 2, 2,\n",
              "       2, 1, 0, 2, 2, 2, 2, 2, 2, 1, 0, 1, 0, 2, 2, 1, 1, 0, 1, 2, 1, 2,\n",
              "       1, 1, 0, 2, 2, 2, 0, 2, 1, 2, 1, 2, 0, 1, 0, 1, 2, 0, 2, 1, 0, 2,\n",
              "       0, 2, 1, 2, 2, 2, 2, 2, 2, 2, 2, 2, 1, 1, 0, 2, 2, 1, 0, 0, 2, 2,\n",
              "       1, 0, 2, 1, 2, 0, 2, 2, 1, 0, 0, 2, 2, 1, 0, 0, 1, 1, 0, 2, 0, 2,\n",
              "       0, 2, 2, 0, 2, 2, 1, 0, 2, 0, 2, 0, 2, 1, 0, 1, 2, 2, 1, 2, 1, 2,\n",
              "       1, 0, 0, 0, 2, 2, 2, 2, 1, 2, 1, 2, 0, 1, 1, 1, 1, 1, 1, 1, 0, 0,\n",
              "       0, 2, 0, 0, 1, 1, 1, 0, 1, 2, 1, 0, 1, 0, 2, 0, 0, 1, 1, 2, 0, 0,\n",
              "       1, 1, 0, 2, 1, 0, 2, 2, 2, 1, 0, 1, 1, 1, 2, 1, 1, 1, 1, 0, 2, 2,\n",
              "       2, 1, 2, 1, 0, 1, 2, 1, 0, 0, 0, 1, 1, 0])"
            ]
          },
          "metadata": {},
          "execution_count": 21
        }
      ]
    },
    {
      "cell_type": "code",
      "source": [
        "confusion_matrix(test_label_encoder,y_preds)"
      ],
      "metadata": {
        "colab": {
          "base_uri": "https://localhost:8080/"
        },
        "id": "WYMC0CYR-4ks",
        "outputId": "623885a4-ef30-4b7e-8750-86d024506775"
      },
      "execution_count": 22,
      "outputs": [
        {
          "output_type": "execute_result",
          "data": {
            "text/plain": [
              "array([[ 81,   0,   5],\n",
              "       [  2,  98,  10],\n",
              "       [  0,   0, 104]])"
            ]
          },
          "metadata": {},
          "execution_count": 22
        }
      ]
    },
    {
      "cell_type": "code",
      "source": [
        "class_names\n"
      ],
      "metadata": {
        "colab": {
          "base_uri": "https://localhost:8080/"
        },
        "id": "8f32SmKBXNKr",
        "outputId": "5324f282-e44a-42ad-e1b6-539f4fc9c7d6"
      },
      "execution_count": 23,
      "outputs": [
        {
          "output_type": "execute_result",
          "data": {
            "text/plain": [
              "array(['Boot', 'Sandal', 'Shoe'], dtype='<U6')"
            ]
          },
          "metadata": {},
          "execution_count": 23
        }
      ]
    },
    {
      "cell_type": "code",
      "source": [
        "sns.set(font_scale=1.5)\n",
        "\n",
        "def plot_conf_mat(y_test, y_preds):\n",
        "    \"\"\"\n",
        "    Plots a nice looking confusion matrix using Seaborn's heatmap()\n",
        "    \"\"\"\n",
        "    fig, ax = plt.subplots(figsize=(5, 5))\n",
        "    ax = sns.heatmap(confusion_matrix(y_test, y_preds),\n",
        "                     annot=True,\n",
        "                     cbar=False,fmt=\".0f\",\n",
        "                     xticklabels=class_names,\n",
        "                     yticklabels=class_names\n",
        "                     )\n",
        "    plt.xlabel(\"Predicted label\",labelpad=30)\n",
        "    plt.ylabel(\"True label\",labelpad=30)\n",
        "    \n",
        "    \n",
        "plot_conf_mat(test_label_encoder, y_preds)"
      ],
      "metadata": {
        "colab": {
          "base_uri": "https://localhost:8080/",
          "height": 378
        },
        "id": "RuG_0c1tTe9l",
        "outputId": "df66b334-2afe-49c2-a455-8554040be21e"
      },
      "execution_count": 24,
      "outputs": [
        {
          "output_type": "display_data",
          "data": {
            "text/plain": [
              "<Figure size 360x360 with 1 Axes>"
            ],
            "image/png": "[encoded data removed]"
          },
          "metadata": {}
        }
      ]
    },
    {
      "cell_type": "code",
      "source": [
        "print(f\"Precision : {precision_score(test_label_encoder,y_preds,average=None)}\")\n",
        "print(f\"Recall : {recall_score(test_label_encoder,y_preds,average=None)}\")\n",
        "print(f\"Accuracy : {accuracy_score(test_label_encoder,y_preds,)}\")\n",
        "print(f\"F1-score: {f1_score(test_label_encoder,y_preds,average=None)}\")"
      ],
      "metadata": {
        "colab": {
          "base_uri": "https://localhost:8080/"
        },
        "id": "00FRr2ru_YGk",
        "outputId": "74e4a601-6004-4178-fa8f-08e53fbf2f3d"
      },
      "execution_count": 25,
      "outputs": [
        {
          "output_type": "stream",
          "name": "stdout",
          "text": [
            "Precision : [0.97590361 1.         0.87394958]\n",
            "Recall : [0.94186047 0.89090909 1.        ]\n",
            "Accuracy : 0.9433333333333334\n",
            "F1-score: [0.95857988 0.94230769 0.93273543]\n"
          ]
        }
      ]
    },
    {
      "cell_type": "code",
      "source": [],
      "metadata": {
        "id": "9Ru1XVNHQeXD"
      },
      "execution_count": 25,
      "outputs": []
    }
  ]
}
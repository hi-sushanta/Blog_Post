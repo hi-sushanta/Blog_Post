{
  "nbformat": 4,
  "nbformat_minor": 0,
  "metadata": {
    "colab": {
      "provenance": []
    },
    "kernelspec": {
      "name": "python3",
      "display_name": "Python 3"
    },
    "language_info": {
      "name": "python"
    },
    "gpuClass": "standard"
  },
  "cells": [
    {
      "cell_type": "code",
      "source": [
        "!nvidia-smi -L"
      ],
      "metadata": {
        "colab": {
          "base_uri": "https://localhost:8080/"
        },
        "id": "hHnZGZmLy6YA",
        "outputId": "17371cf6-49cf-4fb0-c449-22ceaf9fc36f"
      },
      "execution_count": 1,
      "outputs": [
        {
          "output_type": "stream",
          "name": "stdout",
          "text": [
            "NVIDIA-SMI has failed because it couldn't communicate with the NVIDIA driver. Make sure that the latest NVIDIA driver is installed and running.\n",
            "\n"
          ]
        }
      ]
    },
    {
      "cell_type": "code",
      "source": [
        "import pandas as pd\n",
        "import matplotlib.pyplot as plt\n",
        "import seaborn as sns\n",
        "import tensorflow as tf \n",
        "import numpy as np\n",
        "import pathlib\n",
        "import cv2\n",
        "import os\n",
        "import re\n",
        "from sklearn.model_selection import train_test_split\n",
        "from tensorflow.keras.applications.vgg16 import VGG16\n",
        "from tensorflow.keras.layers import Dense,GlobalAveragePooling2D\n",
        "from sklearn.metrics import confusion_matrix,precision_score,recall_score,accuracy_score,f1_score\n",
        "from sklearn.preprocessing import OneHotEncoder,LabelEncoder\n",
        "\n",
        "\n",
        "%matplotlib inline"
      ],
      "metadata": {
        "id": "PbzItkDNkKHI"
      },
      "execution_count": 1,
      "outputs": []
    },
    {
      "cell_type": "code",
      "source": [
        "dataset_dir = \"drive/MyDrive/Dataset/shoe_sandle_boot/\""
      ],
      "metadata": {
        "id": "-F_qmQ7-mAJi"
      },
      "execution_count": 2,
      "outputs": []
    },
    {
      "cell_type": "code",
      "source": [
        "# Get the class names (programmatically, this is much more helpful with a longer list of classes)\n",
        "train_data_dir = pathlib.Path(dataset_dir) # turn our training path into a Python path\n",
        "class_names = np.array(sorted([item.name for item in train_data_dir.glob('*')])) # created a list of class_names from the subdirectories\n",
        "print(class_names)"
      ],
      "metadata": {
        "id": "3FX3NNOXrGaX",
        "colab": {
          "base_uri": "https://localhost:8080/"
        },
        "outputId": "94934fb7-8b4d-4769-925a-b83602e60bbc"
      },
      "execution_count": 3,
      "outputs": [
        {
          "output_type": "stream",
          "name": "stdout",
          "text": [
            "['Boot' 'Sandal' 'Shoe']\n"
          ]
        }
      ]
    },
    {
      "cell_type": "code",
      "source": [
        "\n",
        "img_size = 244\n",
        "\n",
        "def get_image_from_directory(data_dir):\n",
        "    image_bgr = []\n",
        "    label = []\n",
        "    count = 500\n",
        "    for file in data_dir.glob(\"*\"):\n",
        "        for i, image in enumerate(file.glob(\"*\")):\n",
        "            if re.search(r\"(Shoe)\",str(image)):\n",
        "                _image = cv2.imread(str(image))\n",
        "                if not _image is None and  i < count: # check to see image is not empty\n",
        "                    label.append(\"Shoe\")\n",
        "                    resize_image = cv2.resize(_image, (img_size, img_size),interpolation = cv2.INTER_NEAREST)\n",
        "                    image_bgr.append(resize_image)\n",
        "            elif re.search(r\"Sandal\",str(image)):\n",
        "                _image = cv2.imread(str(image))\n",
        "                if not _image is None and i < count: # check to see image is not empty\n",
        "                    label.append(\"Sandal\")\n",
        "                    resize_image = cv2.resize(_image, (img_size, img_size),interpolation = cv2.INTER_NEAREST)\n",
        "                    image_bgr.append(resize_image)\n",
        "            elif re.search(r\"Boot\",str(image)):\n",
        "                _image = cv2.imread(str(image))\n",
        "                if not _image is None and i < count: # check to see image is not empty\n",
        "                    label.append(\"Boot\")\n",
        "                    resize_image = cv2.resize(_image, (img_size, img_size),interpolation = cv2.INTER_NEAREST)\n",
        "                    image_bgr.append(resize_image)\n",
        "    return image_bgr,label"
      ],
      "metadata": {
        "id": "dh05S6GqrPuZ"
      },
      "execution_count": 4,
      "outputs": []
    },
    {
      "cell_type": "code",
      "source": [
        "data_image_bgr,data_label = get_image_from_directory(train_data_dir)\n"
      ],
      "metadata": {
        "id": "7E5Yon0UrpOY",
        "colab": {
          "base_uri": "https://localhost:8080/",
          "height": 288
        },
        "outputId": "e426d246-1ad8-416f-b0c6-11b5fd3fb3b1"
      },
      "execution_count": null,
      "outputs": [
        {
          "output_type": "error",
          "ename": "KeyboardInterrupt",
          "evalue": "ignored",
          "traceback": [
            "\u001b[0;31m---------------------------------------------------------------------------\u001b[0m",
            "\u001b[0;31mKeyboardInterrupt\u001b[0m                         Traceback (most recent call last)",
            "\u001b[0;32m<ipython-input-5-ea70c40babc9>\u001b[0m in \u001b[0;36m<module>\u001b[0;34m\u001b[0m\n\u001b[0;32m----> 1\u001b[0;31m \u001b[0mdata_image_bgr\u001b[0m\u001b[0;34m,\u001b[0m\u001b[0mdata_label\u001b[0m \u001b[0;34m=\u001b[0m \u001b[0mget_image_from_directory\u001b[0m\u001b[0;34m(\u001b[0m\u001b[0mtrain_data_dir\u001b[0m\u001b[0;34m)\u001b[0m\u001b[0;34m\u001b[0m\u001b[0;34m\u001b[0m\u001b[0m\n\u001b[0m",
            "\u001b[0;32m<ipython-input-4-974184288f85>\u001b[0m in \u001b[0;36mget_image_from_directory\u001b[0;34m(data_dir)\u001b[0m\n\u001b[1;32m     20\u001b[0m                     \u001b[0mimage_bgr\u001b[0m\u001b[0;34m.\u001b[0m\u001b[0mappend\u001b[0m\u001b[0;34m(\u001b[0m\u001b[0mresize_image\u001b[0m\u001b[0;34m)\u001b[0m\u001b[0;34m\u001b[0m\u001b[0;34m\u001b[0m\u001b[0m\n\u001b[1;32m     21\u001b[0m             \u001b[0;32melif\u001b[0m \u001b[0mre\u001b[0m\u001b[0;34m.\u001b[0m\u001b[0msearch\u001b[0m\u001b[0;34m(\u001b[0m\u001b[0;34mr\"Boot\"\u001b[0m\u001b[0;34m,\u001b[0m\u001b[0mstr\u001b[0m\u001b[0;34m(\u001b[0m\u001b[0mimage\u001b[0m\u001b[0;34m)\u001b[0m\u001b[0;34m)\u001b[0m\u001b[0;34m:\u001b[0m\u001b[0;34m\u001b[0m\u001b[0;34m\u001b[0m\u001b[0m\n\u001b[0;32m---> 22\u001b[0;31m                 \u001b[0m_image\u001b[0m \u001b[0;34m=\u001b[0m \u001b[0mcv2\u001b[0m\u001b[0;34m.\u001b[0m\u001b[0mimread\u001b[0m\u001b[0;34m(\u001b[0m\u001b[0mstr\u001b[0m\u001b[0;34m(\u001b[0m\u001b[0mimage\u001b[0m\u001b[0;34m)\u001b[0m\u001b[0;34m)\u001b[0m\u001b[0;34m\u001b[0m\u001b[0;34m\u001b[0m\u001b[0m\n\u001b[0m\u001b[1;32m     23\u001b[0m                 \u001b[0;32mif\u001b[0m \u001b[0;32mnot\u001b[0m \u001b[0m_image\u001b[0m \u001b[0;32mis\u001b[0m \u001b[0;32mNone\u001b[0m \u001b[0;32mand\u001b[0m \u001b[0mi\u001b[0m \u001b[0;34m<\u001b[0m \u001b[0mcount\u001b[0m\u001b[0;34m:\u001b[0m \u001b[0;31m# check to see image is not empty\u001b[0m\u001b[0;34m\u001b[0m\u001b[0;34m\u001b[0m\u001b[0m\n\u001b[1;32m     24\u001b[0m                     \u001b[0mlabel\u001b[0m\u001b[0;34m.\u001b[0m\u001b[0mappend\u001b[0m\u001b[0;34m(\u001b[0m\u001b[0;34m\"Boot\"\u001b[0m\u001b[0;34m)\u001b[0m\u001b[0;34m\u001b[0m\u001b[0;34m\u001b[0m\u001b[0m\n",
            "\u001b[0;31mKeyboardInterrupt\u001b[0m: "
          ]
        }
      ]
    },
    {
      "cell_type": "code",
      "source": [
        "np.unique(data_label)"
      ],
      "metadata": {
        "id": "MkS5Wna1tDdN",
        "colab": {
          "base_uri": "https://localhost:8080/"
        },
        "outputId": "fa0be38c-53de-4684-df35-307d5142c5c4"
      },
      "execution_count": null,
      "outputs": [
        {
          "output_type": "execute_result",
          "data": {
            "text/plain": [
              "array(['Boot', 'Sandal', 'Shoe'], dtype='<U6')"
            ]
          },
          "metadata": {},
          "execution_count": 7
        }
      ]
    },
    {
      "cell_type": "code",
      "source": [
        "len(data_image_bgr),len(data_label)"
      ],
      "metadata": {
        "id": "CuQFGj4-typX",
        "colab": {
          "base_uri": "https://localhost:8080/"
        },
        "outputId": "2bbf468e-c5c4-4fab-9153-0368c52ebf16"
      },
      "execution_count": null,
      "outputs": [
        {
          "output_type": "execute_result",
          "data": {
            "text/plain": [
              "(1500, 1500)"
            ]
          },
          "metadata": {},
          "execution_count": 8
        }
      ]
    },
    {
      "cell_type": "code",
      "source": [
        "train_image_bgr,test_image_bgr,y_train,y_test = train_test_split(data_image_bgr,\n",
        "                                                                 data_label,\n",
        "                                                                 test_size=0.2,\n",
        "                                                                 random_state=42)\n",
        "len(train_image_bgr),len(test_image_bgr),len(y_train),len(y_test)"
      ],
      "metadata": {
        "id": "3C6JKgcHr24q",
        "colab": {
          "base_uri": "https://localhost:8080/"
        },
        "outputId": "24d777d3-f070-4e92-8e77-a945a085e0c8"
      },
      "execution_count": null,
      "outputs": [
        {
          "output_type": "execute_result",
          "data": {
            "text/plain": [
              "(1200, 300, 1200, 300)"
            ]
          },
          "metadata": {},
          "execution_count": 9
        }
      ]
    },
    {
      "cell_type": "code",
      "source": [
        "np.array(y_train).shape,np.array(y_train).ndim"
      ],
      "metadata": {
        "colab": {
          "base_uri": "https://localhost:8080/"
        },
        "id": "RTRXFPICH2t0",
        "outputId": "0fc098cb-38e2-42a3-9860-4525f30e185a"
      },
      "execution_count": null,
      "outputs": [
        {
          "output_type": "execute_result",
          "data": {
            "text/plain": [
              "((1200,), 1)"
            ]
          },
          "metadata": {},
          "execution_count": 10
        }
      ]
    },
    {
      "cell_type": "code",
      "source": [
        "y_train = tf.expand_dims(y_train,axis=1)\n",
        "y_test = tf.expand_dims(y_test,axis=1)\n",
        "y_train.shape"
      ],
      "metadata": {
        "id": "5LasAecDuwRQ",
        "colab": {
          "base_uri": "https://localhost:8080/"
        },
        "outputId": "9e821a2a-af0e-47d7-cdfe-f8961ebff67c"
      },
      "execution_count": null,
      "outputs": [
        {
          "output_type": "execute_result",
          "data": {
            "text/plain": [
              "TensorShape([1200, 1])"
            ]
          },
          "metadata": {},
          "execution_count": 11
        }
      ]
    },
    {
      "cell_type": "code",
      "source": [
        "def one_hot_label(label):\n",
        "    label_one_hot = OneHotEncoder(sparse=False)\n",
        "    label_encoder = LabelEncoder()\n",
        "    train_label_one_hot = label_one_hot.fit_transform(label)\n",
        "    label_encoder = label_encoder.fit(label)\n",
        "    train_label_encoder = label_encoder.transform(label)\n",
        "    return train_label_one_hot,train_label_encoder\n",
        "\n",
        "train_label_one_hot,train_label_encoder = one_hot_label(y_train)\n",
        "test_label_one_hot,test_label_encoder = one_hot_label(y_test)"
      ],
      "metadata": {
        "id": "D4ff7elnsGkQ",
        "colab": {
          "base_uri": "https://localhost:8080/"
        },
        "outputId": "939c7988-ec57-42ed-e9b1-0ff5c15f549c"
      },
      "execution_count": null,
      "outputs": [
        {
          "output_type": "stream",
          "name": "stderr",
          "text": [
            "/usr/local/lib/python3.7/dist-packages/sklearn/preprocessing/_label.py:98: DataConversionWarning: A column-vector y was passed when a 1d array was expected. Please change the shape of y to (n_samples, ), for example using ravel().\n",
            "  y = column_or_1d(y, warn=True)\n",
            "/usr/local/lib/python3.7/dist-packages/sklearn/preprocessing/_label.py:133: DataConversionWarning: A column-vector y was passed when a 1d array was expected. Please change the shape of y to (n_samples, ), for example using ravel().\n",
            "  y = column_or_1d(y, warn=True)\n",
            "/usr/local/lib/python3.7/dist-packages/sklearn/preprocessing/_label.py:98: DataConversionWarning: A column-vector y was passed when a 1d array was expected. Please change the shape of y to (n_samples, ), for example using ravel().\n",
            "  y = column_or_1d(y, warn=True)\n",
            "/usr/local/lib/python3.7/dist-packages/sklearn/preprocessing/_label.py:133: DataConversionWarning: A column-vector y was passed when a 1d array was expected. Please change the shape of y to (n_samples, ), for example using ravel().\n",
            "  y = column_or_1d(y, warn=True)\n"
          ]
        }
      ]
    },
    {
      "cell_type": "code",
      "source": [
        "train_label_one_hot[0:5],y_train[0:5]\n"
      ],
      "metadata": {
        "id": "Fv1dP-MFsjtZ",
        "colab": {
          "base_uri": "https://localhost:8080/"
        },
        "outputId": "c5f27b0f-9566-46b8-ef18-e95859c7d914"
      },
      "execution_count": null,
      "outputs": [
        {
          "output_type": "execute_result",
          "data": {
            "text/plain": [
              "(array([[0., 0., 1.],\n",
              "        [1., 0., 0.],\n",
              "        [0., 1., 0.],\n",
              "        [0., 1., 0.],\n",
              "        [0., 0., 1.]]), <tf.Tensor: shape=(5, 1), dtype=string, numpy=\n",
              " array([[b'Shoe'],\n",
              "        [b'Boot'],\n",
              "        [b'Sandal'],\n",
              "        [b'Sandal'],\n",
              "        [b'Shoe']], dtype=object)>)"
            ]
          },
          "metadata": {},
          "execution_count": 13
        }
      ]
    },
    {
      "cell_type": "code",
      "source": [
        "test_label_one_hot[:5], y_test[0:5]"
      ],
      "metadata": {
        "id": "kBBq2pX5snsR",
        "colab": {
          "base_uri": "https://localhost:8080/"
        },
        "outputId": "74438427-b3ac-4d96-f090-7a10065760f5"
      },
      "execution_count": null,
      "outputs": [
        {
          "output_type": "execute_result",
          "data": {
            "text/plain": [
              "(array([[0., 1., 0.],\n",
              "        [0., 1., 0.],\n",
              "        [0., 0., 1.],\n",
              "        [0., 0., 1.],\n",
              "        [0., 0., 1.]]), <tf.Tensor: shape=(5, 1), dtype=string, numpy=\n",
              " array([[b'Sandal'],\n",
              "        [b'Sandal'],\n",
              "        [b'Shoe'],\n",
              "        [b'Shoe'],\n",
              "        [b'Shoe']], dtype=object)>)"
            ]
          },
          "metadata": {},
          "execution_count": 14
        }
      ]
    },
    {
      "cell_type": "code",
      "source": [
        "test_label_encoder[:5]"
      ],
      "metadata": {
        "colab": {
          "base_uri": "https://localhost:8080/"
        },
        "id": "pteeqAAlCnWw",
        "outputId": "8678c88d-77db-465d-b9fe-60a037098ed5"
      },
      "execution_count": null,
      "outputs": [
        {
          "output_type": "execute_result",
          "data": {
            "text/plain": [
              "array([1, 1, 2, 2, 2])"
            ]
          },
          "metadata": {},
          "execution_count": 15
        }
      ]
    },
    {
      "cell_type": "code",
      "source": [
        "print(np.array(train_image_bgr).shape)\n",
        "print(np.array(test_image_bgr).shape)\n",
        "print(np.array(train_label_one_hot).shape)\n",
        "print(np.array(test_label_one_hot).shape)"
      ],
      "metadata": {
        "id": "lMwq2yzDsxBN",
        "colab": {
          "base_uri": "https://localhost:8080/"
        },
        "outputId": "f6e660ad-05a3-4035-a7f5-f72bc378478b"
      },
      "execution_count": null,
      "outputs": [
        {
          "output_type": "stream",
          "name": "stdout",
          "text": [
            "(1200, 244, 244, 3)\n",
            "(300, 244, 244, 3)\n",
            "(1200, 3)\n",
            "(300, 3)\n"
          ]
        }
      ]
    },
    {
      "cell_type": "code",
      "source": [
        "train_dataset = tf.data.Dataset.from_tensor_slices((train_image_bgr,train_label_one_hot)).batch(32).shuffle(100).prefetch(tf.data.AUTOTUNE)\n",
        "test_dataset = tf.data.Dataset.from_tensor_slices((test_image_bgr,test_label_one_hot)).batch(32).prefetch(tf.data.AUTOTUNE)\n",
        "train_dataset"
      ],
      "metadata": {
        "id": "k35vjcFms7Be",
        "colab": {
          "base_uri": "https://localhost:8080/"
        },
        "outputId": "b2b5722e-133c-4671-e6d8-22c776351d2d"
      },
      "execution_count": null,
      "outputs": [
        {
          "output_type": "execute_result",
          "data": {
            "text/plain": [
              "<PrefetchDataset element_spec=(TensorSpec(shape=(None, 244, 244, 3), dtype=tf.uint8, name=None), TensorSpec(shape=(None, 3), dtype=tf.float64, name=None))>"
            ]
          },
          "metadata": {},
          "execution_count": 17
        }
      ]
    },
    {
      "cell_type": "code",
      "source": [
        "tf.random.set_seed(42)\n",
        "base_model = VGG16(weights='imagenet', include_top=False,\n",
        "                            input_shape=(img_size, img_size,3))\n",
        "\n",
        "# freeze extraction layers\n",
        "base_model.trainable = False\n",
        "\n",
        "# add custom top layers\n",
        "x = base_model.output\n",
        "x = GlobalAveragePooling2D()(x)\n",
        "x = Dense(1024 , activation='relu')(x)\n",
        "x = Dense(1024 , activation='relu')(x)\n",
        "x = Dense(512 , activation='relu')(x)\n",
        "x = Dense(512 , activation='relu')(x)\n",
        "x = Dense(256 , activation='relu')(x)\n",
        "predictions = Dense(len(class_names), activation='softmax')(x)\n",
        "model = tf.keras.Model(inputs=base_model.input, outputs=predictions)\n",
        "\n",
        "opt = tf.keras.optimizers.Adam(learning_rate=0.001)\n",
        "model.compile(\n",
        "  loss=tf.keras.losses.CategoricalCrossentropy(),\n",
        "  optimizer=opt,\n",
        "  metrics=['accuracy']\n",
        ")\n",
        "\n",
        "history = model.fit(train_dataset,\n",
        "                    epochs=10,\n",
        "                    validation_data=test_dataset)\n"
      ],
      "metadata": {
        "id": "M_pB94PQtU-W",
        "colab": {
          "base_uri": "https://localhost:8080/"
        },
        "outputId": "b89794b2-1eb0-4eef-b694-9c4d89021a0b"
      },
      "execution_count": null,
      "outputs": [
        {
          "output_type": "stream",
          "name": "stdout",
          "text": [
            "Downloading data from https://storage.googleapis.com/tensorflow/keras-applications/vgg16/vgg16_weights_tf_dim_ordering_tf_kernels_notop.h5\n",
            "58889256/58889256 [==============================] - 3s 0us/step\n",
            "Epoch 1/10\n",
            "38/38 [==============================] - 24s 315ms/step - loss: 0.8501 - accuracy: 0.7742 - val_loss: 0.2547 - val_accuracy: 0.9333\n",
            "Epoch 2/10\n",
            "38/38 [==============================] - 9s 224ms/step - loss: 0.1337 - accuracy: 0.9550 - val_loss: 0.2038 - val_accuracy: 0.9267\n",
            "Epoch 3/10\n",
            "38/38 [==============================] - 9s 227ms/step - loss: 0.0488 - accuracy: 0.9867 - val_loss: 0.3798 - val_accuracy: 0.9433\n",
            "Epoch 4/10\n",
            "38/38 [==============================] - 9s 229ms/step - loss: 0.0411 - accuracy: 0.9817 - val_loss: 0.3872 - val_accuracy: 0.9267\n",
            "Epoch 5/10\n",
            "38/38 [==============================] - 9s 232ms/step - loss: 0.0844 - accuracy: 0.9758 - val_loss: 0.3892 - val_accuracy: 0.9233\n",
            "Epoch 6/10\n",
            "38/38 [==============================] - 9s 236ms/step - loss: 0.0527 - accuracy: 0.9858 - val_loss: 0.3898 - val_accuracy: 0.9333\n",
            "Epoch 7/10\n",
            "38/38 [==============================] - 9s 239ms/step - loss: 0.0417 - accuracy: 0.9842 - val_loss: 0.5447 - val_accuracy: 0.9267\n",
            "Epoch 8/10\n",
            "38/38 [==============================] - 9s 242ms/step - loss: 0.0399 - accuracy: 0.9900 - val_loss: 0.3474 - val_accuracy: 0.9333\n",
            "Epoch 9/10\n",
            "38/38 [==============================] - 9s 240ms/step - loss: 0.0143 - accuracy: 0.9933 - val_loss: 0.4338 - val_accuracy: 0.9300\n",
            "Epoch 10/10\n",
            "38/38 [==============================] - 9s 239ms/step - loss: 0.0441 - accuracy: 0.9892 - val_loss: 0.3562 - val_accuracy: 0.9067\n"
          ]
        }
      ]
    },
    {
      "cell_type": "code",
      "source": [
        "model.evaluate(test_dataset)"
      ],
      "metadata": {
        "id": "GOkTDrlsv3yd",
        "colab": {
          "base_uri": "https://localhost:8080/"
        },
        "outputId": "adb2e1e4-5762-44af-9a6c-3c18257697b3"
      },
      "execution_count": null,
      "outputs": [
        {
          "output_type": "stream",
          "name": "stdout",
          "text": [
            "10/10 [==============================] - 2s 180ms/step - loss: 0.3562 - accuracy: 0.9067\n"
          ]
        },
        {
          "output_type": "execute_result",
          "data": {
            "text/plain": [
              "[0.35621994733810425, 0.9066666960716248]"
            ]
          },
          "metadata": {},
          "execution_count": 20
        }
      ]
    },
    {
      "cell_type": "code",
      "source": [
        "tf.random.set_seed(42)\n",
        "y_probs = model.predict(test_dataset)\n",
        "y_probs[:5]"
      ],
      "metadata": {
        "colab": {
          "base_uri": "https://localhost:8080/"
        },
        "id": "npQ_--ii6iCw",
        "outputId": "7ac3582c-dbac-4c63-ed0b-e109905d32f0"
      },
      "execution_count": null,
      "outputs": [
        {
          "output_type": "stream",
          "name": "stdout",
          "text": [
            "10/10 [==============================] - 2s 186ms/step\n"
          ]
        },
        {
          "output_type": "execute_result",
          "data": {
            "text/plain": [
              "array([[5.9736217e-04, 9.9922872e-01, 1.7389187e-04],\n",
              "       [4.6304365e-05, 9.9994266e-01, 1.1109423e-05],\n",
              "       [1.6800530e-02, 9.1680521e-01, 6.6394322e-02],\n",
              "       [6.6611352e-07, 3.6583057e-07, 9.9999893e-01],\n",
              "       [7.2099071e-04, 8.9564984e-04, 9.9838340e-01]], dtype=float32)"
            ]
          },
          "metadata": {},
          "execution_count": 21
        }
      ]
    },
    {
      "cell_type": "code",
      "source": [
        "def get_y_preds(model_probs):\n",
        "  y_preds = []\n",
        "  for porb in model_probs: \n",
        "    y_pred = np.round(np.argmax(porb))\n",
        "    y_preds.append(y_pred)\n",
        "  return np.array(y_preds)\n",
        "\n",
        "y_preds = get_y_preds(y_probs)\n",
        "y_preds"
      ],
      "metadata": {
        "id": "u58JwxtH68oR",
        "colab": {
          "base_uri": "https://localhost:8080/"
        },
        "outputId": "f476a8e4-33b9-4e07-d7c9-a75e33c2402c"
      },
      "execution_count": null,
      "outputs": [
        {
          "output_type": "execute_result",
          "data": {
            "text/plain": [
              "array([1, 1, 1, 2, 2, 0, 1, 0, 1, 2, 0, 1, 0, 1, 2, 1, 1, 0, 1, 2, 1, 1,\n",
              "       1, 1, 1, 2, 1, 1, 1, 1, 1, 0, 1, 1, 2, 1, 2, 2, 2, 2, 1, 2, 1, 0,\n",
              "       1, 2, 2, 2, 0, 0, 0, 0, 1, 1, 0, 0, 2, 2, 2, 0, 0, 0, 2, 2, 0, 2,\n",
              "       2, 0, 1, 0, 2, 0, 0, 2, 0, 1, 0, 0, 2, 0, 1, 2, 0, 0, 0, 2, 0, 0,\n",
              "       0, 0, 1, 2, 2, 1, 1, 2, 2, 2, 1, 2, 0, 0, 1, 1, 2, 2, 2, 1, 0, 0,\n",
              "       2, 1, 0, 2, 0, 2, 2, 2, 2, 1, 0, 1, 0, 1, 1, 1, 1, 0, 1, 2, 1, 0,\n",
              "       1, 1, 0, 1, 2, 2, 0, 2, 1, 2, 1, 2, 0, 1, 0, 1, 2, 0, 2, 1, 0, 0,\n",
              "       0, 1, 1, 2, 2, 2, 1, 2, 2, 2, 2, 2, 1, 1, 0, 2, 2, 1, 0, 0, 2, 2,\n",
              "       1, 0, 1, 1, 2, 0, 2, 2, 1, 0, 0, 0, 1, 1, 0, 0, 1, 1, 0, 1, 0, 2,\n",
              "       0, 0, 0, 0, 2, 2, 1, 0, 2, 0, 2, 0, 2, 1, 0, 1, 1, 2, 1, 2, 1, 2,\n",
              "       1, 0, 0, 0, 2, 2, 2, 2, 1, 1, 1, 2, 0, 1, 1, 1, 1, 1, 1, 1, 0, 0,\n",
              "       0, 2, 0, 0, 1, 1, 1, 0, 1, 2, 1, 0, 1, 0, 2, 0, 0, 1, 1, 2, 0, 0,\n",
              "       1, 1, 0, 1, 1, 0, 2, 2, 2, 1, 0, 1, 1, 1, 2, 1, 1, 1, 1, 0, 2, 0,\n",
              "       1, 1, 2, 1, 0, 1, 2, 1, 0, 0, 0, 1, 1, 0])"
            ]
          },
          "metadata": {},
          "execution_count": 22
        }
      ]
    },
    {
      "cell_type": "code",
      "source": [
        "confusion_matrix(test_label_encoder,y_preds)"
      ],
      "metadata": {
        "colab": {
          "base_uri": "https://localhost:8080/"
        },
        "id": "WYMC0CYR-4ks",
        "outputId": "3d69766e-4fe2-4132-a0ec-0fa480237e44"
      },
      "execution_count": null,
      "outputs": [
        {
          "output_type": "execute_result",
          "data": {
            "text/plain": [
              "array([[ 85,   0,   1],\n",
              "       [  4, 102,   4],\n",
              "       [  7,  12,  85]])"
            ]
          },
          "metadata": {},
          "execution_count": 23
        }
      ]
    },
    {
      "cell_type": "code",
      "source": [
        "class_names\n"
      ],
      "metadata": {
        "colab": {
          "base_uri": "https://localhost:8080/"
        },
        "id": "8f32SmKBXNKr",
        "outputId": "7ac9e466-92f7-48dc-8f25-ebeb0e3a5c3e"
      },
      "execution_count": null,
      "outputs": [
        {
          "output_type": "execute_result",
          "data": {
            "text/plain": [
              "array(['Boot', 'Sandal', 'Shoe'], dtype='<U6')"
            ]
          },
          "metadata": {},
          "execution_count": 24
        }
      ]
    },
    {
      "cell_type": "code",
      "source": [
        "sns.set(font_scale=1.5)\n",
        "\n",
        "def plot_conf_mat(y_test, y_preds):\n",
        "    \"\"\"\n",
        "    Plots a nice looking confusion matrix using Seaborn's heatmap()\n",
        "    \"\"\"\n",
        "    fig, ax = plt.subplots(figsize=(5, 5))\n",
        "    ax = sns.heatmap(confusion_matrix(y_test, y_preds),\n",
        "                     annot=True,\n",
        "                     cbar=False,fmt=\".0f\",\n",
        "                     xticklabels=class_names,\n",
        "                     yticklabels=class_names\n",
        "                     )\n",
        "    plt.xlabel(\"Predicted label\",labelpad=30)\n",
        "    plt.ylabel(\"True label\",labelpad=30)\n",
        "    \n",
        "    \n",
        "plot_conf_mat(test_label_encoder, y_preds)"
      ],
      "metadata": {
        "colab": {
          "base_uri": "https://localhost:8080/",
          "height": 378
        },
        "id": "RuG_0c1tTe9l",
        "outputId": "e764d18d-a350-4a13-b63b-b39bfb0d844e"
      },
      "execution_count": null,
      "outputs": [
        {
          "output_type": "display_data",
          "data": {
            "text/plain": [
              "<Figure size 360x360 with 1 Axes>"
            ],
            "image/png": "[encoded data removed]"
          },
          "metadata": {}
        }
      ]
    },
    {
      "cell_type": "code",
      "source": [
        "print(f\"Precision : {precision_score(test_label_encoder,y_preds,average=None)}\")\n",
        "print(f\"Recall : {recall_score(test_label_encoder,y_preds,average=None)}\")\n",
        "print(f\"Accuracy : {accuracy_score(test_label_encoder,y_preds,)}\")\n",
        "print(f\"F1-score: {f1_score(test_label_encoder,y_preds,average=None)}\")"
      ],
      "metadata": {
        "colab": {
          "base_uri": "https://localhost:8080/"
        },
        "id": "00FRr2ru_YGk",
        "outputId": "8b8973c4-270e-45b8-f2cd-cf63845aebd5"
      },
      "execution_count": null,
      "outputs": [
        {
          "output_type": "stream",
          "name": "stdout",
          "text": [
            "Precision : [0.88541667 0.89473684 0.94444444]\n",
            "Recall : [0.98837209 0.92727273 0.81730769]\n",
            "Accuracy : 0.9066666666666666\n",
            "F1-score: [0.93406593 0.91071429 0.87628866]\n"
          ]
        }
      ]
    },
    {
      "cell_type": "code",
      "source": [],
      "metadata": {
        "id": "9Ru1XVNHQeXD"
      },
      "execution_count": null,
      "outputs": []
    }
  ]
}